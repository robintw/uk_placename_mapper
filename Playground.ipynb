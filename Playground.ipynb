{
 "cells": [
  {
   "cell_type": "code",
   "execution_count": 14,
   "id": "6ce1d6c5-681f-4b41-b3e0-1445d53fa5e8",
   "metadata": {},
   "outputs": [],
   "source": [
    "import pandas as pd\n",
    "import geopandas as gpd\n",
    "import shapely\n",
    "from glob import glob"
   ]
  },
  {
   "cell_type": "code",
   "execution_count": 15,
   "id": "2a22963d-408d-4a3e-b5ac-bb3e204c8ac1",
   "metadata": {},
   "outputs": [
    {
     "name": "stderr",
     "output_type": "stream",
     "text": [
      "/var/folders/v0/p9_n6wqj1jb7xn4q18f7p_q40000gn/T/ipykernel_78359/553860139.py:4: DtypeWarning: Columns (4,16,17,31,32,33) have mixed types. Specify dtype option on import or set low_memory=False.\n",
      "  df = pd.read_csv(filename, header=None)\n",
      "/var/folders/v0/p9_n6wqj1jb7xn4q18f7p_q40000gn/T/ipykernel_78359/553860139.py:4: DtypeWarning: Columns (4) have mixed types. Specify dtype option on import or set low_memory=False.\n",
      "  df = pd.read_csv(filename, header=None)\n",
      "/var/folders/v0/p9_n6wqj1jb7xn4q18f7p_q40000gn/T/ipykernel_78359/553860139.py:4: DtypeWarning: Columns (4,32,33) have mixed types. Specify dtype option on import or set low_memory=False.\n",
      "  df = pd.read_csv(filename, header=None)\n",
      "/var/folders/v0/p9_n6wqj1jb7xn4q18f7p_q40000gn/T/ipykernel_78359/553860139.py:4: DtypeWarning: Columns (4,24,25,26,31,32,33) have mixed types. Specify dtype option on import or set low_memory=False.\n",
      "  df = pd.read_csv(filename, header=None)\n",
      "/var/folders/v0/p9_n6wqj1jb7xn4q18f7p_q40000gn/T/ipykernel_78359/553860139.py:4: DtypeWarning: Columns (4,31,32,33) have mixed types. Specify dtype option on import or set low_memory=False.\n",
      "  df = pd.read_csv(filename, header=None)\n",
      "/var/folders/v0/p9_n6wqj1jb7xn4q18f7p_q40000gn/T/ipykernel_78359/553860139.py:4: DtypeWarning: Columns (4) have mixed types. Specify dtype option on import or set low_memory=False.\n",
      "  df = pd.read_csv(filename, header=None)\n",
      "/var/folders/v0/p9_n6wqj1jb7xn4q18f7p_q40000gn/T/ipykernel_78359/553860139.py:4: DtypeWarning: Columns (4,31,32,33) have mixed types. Specify dtype option on import or set low_memory=False.\n",
      "  df = pd.read_csv(filename, header=None)\n",
      "/var/folders/v0/p9_n6wqj1jb7xn4q18f7p_q40000gn/T/ipykernel_78359/553860139.py:4: DtypeWarning: Columns (4,31,32,33) have mixed types. Specify dtype option on import or set low_memory=False.\n",
      "  df = pd.read_csv(filename, header=None)\n",
      "/var/folders/v0/p9_n6wqj1jb7xn4q18f7p_q40000gn/T/ipykernel_78359/553860139.py:4: DtypeWarning: Columns (4,32,33) have mixed types. Specify dtype option on import or set low_memory=False.\n",
      "  df = pd.read_csv(filename, header=None)\n",
      "/var/folders/v0/p9_n6wqj1jb7xn4q18f7p_q40000gn/T/ipykernel_78359/553860139.py:4: DtypeWarning: Columns (4) have mixed types. Specify dtype option on import or set low_memory=False.\n",
      "  df = pd.read_csv(filename, header=None)\n",
      "/var/folders/v0/p9_n6wqj1jb7xn4q18f7p_q40000gn/T/ipykernel_78359/553860139.py:4: DtypeWarning: Columns (4,31,32,33) have mixed types. Specify dtype option on import or set low_memory=False.\n",
      "  df = pd.read_csv(filename, header=None)\n",
      "/var/folders/v0/p9_n6wqj1jb7xn4q18f7p_q40000gn/T/ipykernel_78359/553860139.py:4: DtypeWarning: Columns (4,32,33) have mixed types. Specify dtype option on import or set low_memory=False.\n",
      "  df = pd.read_csv(filename, header=None)\n",
      "/var/folders/v0/p9_n6wqj1jb7xn4q18f7p_q40000gn/T/ipykernel_78359/553860139.py:4: DtypeWarning: Columns (4,32,33) have mixed types. Specify dtype option on import or set low_memory=False.\n",
      "  df = pd.read_csv(filename, header=None)\n",
      "/var/folders/v0/p9_n6wqj1jb7xn4q18f7p_q40000gn/T/ipykernel_78359/553860139.py:4: DtypeWarning: Columns (4) have mixed types. Specify dtype option on import or set low_memory=False.\n",
      "  df = pd.read_csv(filename, header=None)\n",
      "/var/folders/v0/p9_n6wqj1jb7xn4q18f7p_q40000gn/T/ipykernel_78359/553860139.py:4: DtypeWarning: Columns (4) have mixed types. Specify dtype option on import or set low_memory=False.\n",
      "  df = pd.read_csv(filename, header=None)\n",
      "/var/folders/v0/p9_n6wqj1jb7xn4q18f7p_q40000gn/T/ipykernel_78359/553860139.py:4: DtypeWarning: Columns (4,31) have mixed types. Specify dtype option on import or set low_memory=False.\n",
      "  df = pd.read_csv(filename, header=None)\n",
      "/var/folders/v0/p9_n6wqj1jb7xn4q18f7p_q40000gn/T/ipykernel_78359/553860139.py:4: DtypeWarning: Columns (3,5) have mixed types. Specify dtype option on import or set low_memory=False.\n",
      "  df = pd.read_csv(filename, header=None)\n",
      "/var/folders/v0/p9_n6wqj1jb7xn4q18f7p_q40000gn/T/ipykernel_78359/553860139.py:4: DtypeWarning: Columns (4,31,33) have mixed types. Specify dtype option on import or set low_memory=False.\n",
      "  df = pd.read_csv(filename, header=None)\n",
      "/var/folders/v0/p9_n6wqj1jb7xn4q18f7p_q40000gn/T/ipykernel_78359/553860139.py:4: DtypeWarning: Columns (4) have mixed types. Specify dtype option on import or set low_memory=False.\n",
      "  df = pd.read_csv(filename, header=None)\n",
      "/var/folders/v0/p9_n6wqj1jb7xn4q18f7p_q40000gn/T/ipykernel_78359/553860139.py:4: DtypeWarning: Columns (4) have mixed types. Specify dtype option on import or set low_memory=False.\n",
      "  df = pd.read_csv(filename, header=None)\n",
      "/var/folders/v0/p9_n6wqj1jb7xn4q18f7p_q40000gn/T/ipykernel_78359/553860139.py:4: DtypeWarning: Columns (4,31,32,33) have mixed types. Specify dtype option on import or set low_memory=False.\n",
      "  df = pd.read_csv(filename, header=None)\n",
      "/var/folders/v0/p9_n6wqj1jb7xn4q18f7p_q40000gn/T/ipykernel_78359/553860139.py:4: DtypeWarning: Columns (4,32) have mixed types. Specify dtype option on import or set low_memory=False.\n",
      "  df = pd.read_csv(filename, header=None)\n",
      "/var/folders/v0/p9_n6wqj1jb7xn4q18f7p_q40000gn/T/ipykernel_78359/553860139.py:4: DtypeWarning: Columns (4,32,33) have mixed types. Specify dtype option on import or set low_memory=False.\n",
      "  df = pd.read_csv(filename, header=None)\n",
      "/var/folders/v0/p9_n6wqj1jb7xn4q18f7p_q40000gn/T/ipykernel_78359/553860139.py:4: DtypeWarning: Columns (4,32,33) have mixed types. Specify dtype option on import or set low_memory=False.\n",
      "  df = pd.read_csv(filename, header=None)\n",
      "/var/folders/v0/p9_n6wqj1jb7xn4q18f7p_q40000gn/T/ipykernel_78359/553860139.py:4: DtypeWarning: Columns (4,31,32,33) have mixed types. Specify dtype option on import or set low_memory=False.\n",
      "  df = pd.read_csv(filename, header=None)\n",
      "/var/folders/v0/p9_n6wqj1jb7xn4q18f7p_q40000gn/T/ipykernel_78359/553860139.py:4: DtypeWarning: Columns (4,16,17,31,32,33) have mixed types. Specify dtype option on import or set low_memory=False.\n",
      "  df = pd.read_csv(filename, header=None)\n"
     ]
    }
   ],
   "source": [
    "results = []\n",
    "\n",
    "for filename in glob(\"opname_csv_gb/Data/*.csv\"):\n",
    "    df = pd.read_csv(filename, header=None)\n",
    "    subset = df[df[6] == \"populatedPlace\"]\n",
    "    results.append(subset[[2, 8, 9]])"
   ]
  },
  {
   "cell_type": "code",
   "execution_count": 16,
   "id": "691bbec1-8438-48fb-b019-031d82788844",
   "metadata": {},
   "outputs": [],
   "source": [
    "res = pd.concat(results)"
   ]
  },
  {
   "cell_type": "code",
   "execution_count": 20,
   "id": "8bd238ea-257d-4b5f-9367-6da28d03e2d8",
   "metadata": {},
   "outputs": [],
   "source": [
    "gdf = gpd.GeoDataFrame(res, geometry=gpd.points_from_xy(res[8], res[9], crs=27700))"
   ]
  },
  {
   "cell_type": "code",
   "execution_count": 21,
   "id": "cd81cc0f-3253-47b9-9a16-1a289a42c94d",
   "metadata": {},
   "outputs": [
    {
     "data": {
      "text/html": [
       "<div>\n",
       "<style scoped>\n",
       "    .dataframe tbody tr th:only-of-type {\n",
       "        vertical-align: middle;\n",
       "    }\n",
       "\n",
       "    .dataframe tbody tr th {\n",
       "        vertical-align: top;\n",
       "    }\n",
       "\n",
       "    .dataframe thead th {\n",
       "        text-align: right;\n",
       "    }\n",
       "</style>\n",
       "<table border=\"1\" class=\"dataframe\">\n",
       "  <thead>\n",
       "    <tr style=\"text-align: right;\">\n",
       "      <th></th>\n",
       "      <th>2</th>\n",
       "      <th>8</th>\n",
       "      <th>9</th>\n",
       "      <th>geometry</th>\n",
       "    </tr>\n",
       "  </thead>\n",
       "  <tbody>\n",
       "    <tr>\n",
       "      <th>0</th>\n",
       "      <td>Church Fenton</td>\n",
       "      <td>451388</td>\n",
       "      <td>436925</td>\n",
       "      <td>POINT (451388.000 436925.000)</td>\n",
       "    </tr>\n",
       "    <tr>\n",
       "      <th>1</th>\n",
       "      <td>Kellingley</td>\n",
       "      <td>453010</td>\n",
       "      <td>424128</td>\n",
       "      <td>POINT (453010.000 424128.000)</td>\n",
       "    </tr>\n",
       "    <tr>\n",
       "      <th>2</th>\n",
       "      <td>Half Acres</td>\n",
       "      <td>442612</td>\n",
       "      <td>425013</td>\n",
       "      <td>POINT (442612.000 425013.000)</td>\n",
       "    </tr>\n",
       "    <tr>\n",
       "      <th>3</th>\n",
       "      <td>Newton</td>\n",
       "      <td>444690</td>\n",
       "      <td>427852</td>\n",
       "      <td>POINT (444690.000 427852.000)</td>\n",
       "    </tr>\n",
       "    <tr>\n",
       "      <th>4</th>\n",
       "      <td>Gateforth</td>\n",
       "      <td>455954</td>\n",
       "      <td>428629</td>\n",
       "      <td>POINT (455954.000 428629.000)</td>\n",
       "    </tr>\n",
       "    <tr>\n",
       "      <th>...</th>\n",
       "      <td>...</td>\n",
       "      <td>...</td>\n",
       "      <td>...</td>\n",
       "      <td>...</td>\n",
       "    </tr>\n",
       "    <tr>\n",
       "      <th>12</th>\n",
       "      <td>West Yell</td>\n",
       "      <td>445549</td>\n",
       "      <td>1183102</td>\n",
       "      <td>POINT (445549.000 1183102.000)</td>\n",
       "    </tr>\n",
       "    <tr>\n",
       "      <th>13</th>\n",
       "      <td>Hamnavoe</td>\n",
       "      <td>449675</td>\n",
       "      <td>1180559</td>\n",
       "      <td>POINT (449675.000 1180559.000)</td>\n",
       "    </tr>\n",
       "    <tr>\n",
       "      <th>14</th>\n",
       "      <td>Colvister</td>\n",
       "      <td>451579</td>\n",
       "      <td>1197025</td>\n",
       "      <td>POINT (451579.000 1197025.000)</td>\n",
       "    </tr>\n",
       "    <tr>\n",
       "      <th>15</th>\n",
       "      <td>Aywick</td>\n",
       "      <td>453140</td>\n",
       "      <td>1186685</td>\n",
       "      <td>POINT (453140.000 1186685.000)</td>\n",
       "    </tr>\n",
       "    <tr>\n",
       "      <th>556</th>\n",
       "      <td>Cunnister</td>\n",
       "      <td>452728</td>\n",
       "      <td>1196685</td>\n",
       "      <td>POINT (452728.000 1196685.000)</td>\n",
       "    </tr>\n",
       "  </tbody>\n",
       "</table>\n",
       "<p>43208 rows × 4 columns</p>\n",
       "</div>"
      ],
      "text/plain": [
       "                 2       8        9                        geometry\n",
       "0    Church Fenton  451388   436925   POINT (451388.000 436925.000)\n",
       "1       Kellingley  453010   424128   POINT (453010.000 424128.000)\n",
       "2       Half Acres  442612   425013   POINT (442612.000 425013.000)\n",
       "3           Newton  444690   427852   POINT (444690.000 427852.000)\n",
       "4        Gateforth  455954   428629   POINT (455954.000 428629.000)\n",
       "..             ...     ...      ...                             ...\n",
       "12       West Yell  445549  1183102  POINT (445549.000 1183102.000)\n",
       "13        Hamnavoe  449675  1180559  POINT (449675.000 1180559.000)\n",
       "14       Colvister  451579  1197025  POINT (451579.000 1197025.000)\n",
       "15          Aywick  453140  1186685  POINT (453140.000 1186685.000)\n",
       "556      Cunnister  452728  1196685  POINT (452728.000 1196685.000)\n",
       "\n",
       "[43208 rows x 4 columns]"
      ]
     },
     "execution_count": 21,
     "metadata": {},
     "output_type": "execute_result"
    }
   ],
   "source": [
    "gdf"
   ]
  },
  {
   "cell_type": "code",
   "execution_count": 22,
   "id": "500a9d62-d303-4d8e-84b8-255c5d900f38",
   "metadata": {},
   "outputs": [],
   "source": [
    "gdf = gdf.to_crs(4326)"
   ]
  },
  {
   "cell_type": "code",
   "execution_count": 23,
   "id": "84c09306-74f5-49f1-857d-558b887b0385",
   "metadata": {},
   "outputs": [
    {
     "data": {
      "text/html": [
       "<div>\n",
       "<style scoped>\n",
       "    .dataframe tbody tr th:only-of-type {\n",
       "        vertical-align: middle;\n",
       "    }\n",
       "\n",
       "    .dataframe tbody tr th {\n",
       "        vertical-align: top;\n",
       "    }\n",
       "\n",
       "    .dataframe thead th {\n",
       "        text-align: right;\n",
       "    }\n",
       "</style>\n",
       "<table border=\"1\" class=\"dataframe\">\n",
       "  <thead>\n",
       "    <tr style=\"text-align: right;\">\n",
       "      <th></th>\n",
       "      <th>2</th>\n",
       "      <th>8</th>\n",
       "      <th>9</th>\n",
       "      <th>geometry</th>\n",
       "    </tr>\n",
       "  </thead>\n",
       "  <tbody>\n",
       "    <tr>\n",
       "      <th>0</th>\n",
       "      <td>Church Fenton</td>\n",
       "      <td>451388</td>\n",
       "      <td>436925</td>\n",
       "      <td>POINT (-1.22079 53.82606)</td>\n",
       "    </tr>\n",
       "    <tr>\n",
       "      <th>1</th>\n",
       "      <td>Kellingley</td>\n",
       "      <td>453010</td>\n",
       "      <td>424128</td>\n",
       "      <td>POINT (-1.19835 53.71089)</td>\n",
       "    </tr>\n",
       "    <tr>\n",
       "      <th>2</th>\n",
       "      <td>Half Acres</td>\n",
       "      <td>442612</td>\n",
       "      <td>425013</td>\n",
       "      <td>POINT (-1.35575 53.71979)</td>\n",
       "    </tr>\n",
       "    <tr>\n",
       "      <th>3</th>\n",
       "      <td>Newton</td>\n",
       "      <td>444690</td>\n",
       "      <td>427852</td>\n",
       "      <td>POINT (-1.32385 53.74514)</td>\n",
       "    </tr>\n",
       "    <tr>\n",
       "      <th>4</th>\n",
       "      <td>Gateforth</td>\n",
       "      <td>455954</td>\n",
       "      <td>428629</td>\n",
       "      <td>POINT (-1.15294 53.75103)</td>\n",
       "    </tr>\n",
       "    <tr>\n",
       "      <th>...</th>\n",
       "      <td>...</td>\n",
       "      <td>...</td>\n",
       "      <td>...</td>\n",
       "      <td>...</td>\n",
       "    </tr>\n",
       "    <tr>\n",
       "      <th>12</th>\n",
       "      <td>West Yell</td>\n",
       "      <td>445549</td>\n",
       "      <td>1183102</td>\n",
       "      <td>POINT (-1.17194 60.52893)</td>\n",
       "    </tr>\n",
       "    <tr>\n",
       "      <th>13</th>\n",
       "      <td>Hamnavoe</td>\n",
       "      <td>449675</td>\n",
       "      <td>1180559</td>\n",
       "      <td>POINT (-1.09741 60.50562)</td>\n",
       "    </tr>\n",
       "    <tr>\n",
       "      <th>14</th>\n",
       "      <td>Colvister</td>\n",
       "      <td>451579</td>\n",
       "      <td>1197025</td>\n",
       "      <td>POINT (-1.05846 60.65320)</td>\n",
       "    </tr>\n",
       "    <tr>\n",
       "      <th>15</th>\n",
       "      <td>Aywick</td>\n",
       "      <td>453140</td>\n",
       "      <td>1186685</td>\n",
       "      <td>POINT (-1.03269 60.56017)</td>\n",
       "    </tr>\n",
       "    <tr>\n",
       "      <th>556</th>\n",
       "      <td>Cunnister</td>\n",
       "      <td>452728</td>\n",
       "      <td>1196685</td>\n",
       "      <td>POINT (-1.03754 60.64999)</td>\n",
       "    </tr>\n",
       "  </tbody>\n",
       "</table>\n",
       "<p>43208 rows × 4 columns</p>\n",
       "</div>"
      ],
      "text/plain": [
       "                 2       8        9                   geometry\n",
       "0    Church Fenton  451388   436925  POINT (-1.22079 53.82606)\n",
       "1       Kellingley  453010   424128  POINT (-1.19835 53.71089)\n",
       "2       Half Acres  442612   425013  POINT (-1.35575 53.71979)\n",
       "3           Newton  444690   427852  POINT (-1.32385 53.74514)\n",
       "4        Gateforth  455954   428629  POINT (-1.15294 53.75103)\n",
       "..             ...     ...      ...                        ...\n",
       "12       West Yell  445549  1183102  POINT (-1.17194 60.52893)\n",
       "13        Hamnavoe  449675  1180559  POINT (-1.09741 60.50562)\n",
       "14       Colvister  451579  1197025  POINT (-1.05846 60.65320)\n",
       "15          Aywick  453140  1186685  POINT (-1.03269 60.56017)\n",
       "556      Cunnister  452728  1196685  POINT (-1.03754 60.64999)\n",
       "\n",
       "[43208 rows x 4 columns]"
      ]
     },
     "execution_count": 23,
     "metadata": {},
     "output_type": "execute_result"
    }
   ],
   "source": [
    "gdf"
   ]
  },
  {
   "cell_type": "code",
   "execution_count": 29,
   "id": "251f1f51-c0f7-4791-8ca1-e47206953b98",
   "metadata": {},
   "outputs": [],
   "source": [
    "gdf.columns = ['name', 'OS_X', 'OS_Y', 'geometry']"
   ]
  },
  {
   "cell_type": "code",
   "execution_count": 30,
   "id": "ba0f0952-0c48-46c7-8504-488b4f68ec17",
   "metadata": {},
   "outputs": [],
   "source": [
    "gdf['lat'] = gdf.geometry.y\n",
    "gdf['lon'] = gdf.geometry.x"
   ]
  },
  {
   "cell_type": "code",
   "execution_count": 33,
   "id": "c5b0d37b-2760-4d52-8df9-992a405ced43",
   "metadata": {},
   "outputs": [],
   "source": [
    "gdf[['name', 'lat', 'lon']].to_csv(\"places.csv\")"
   ]
  },
  {
   "cell_type": "code",
   "execution_count": 34,
   "id": "63de1afb-a2e2-4166-9284-a9b8c47d5de5",
   "metadata": {},
   "outputs": [
    {
     "name": "stdout",
     "output_type": "stream",
     "text": [
      "total 203824\n",
      "drwxr-xr-x    8 robin  staff   256B 28 Mar 09:20 \u001b[1m\u001b[36m.\u001b[m\u001b[m\n",
      "drwxr-xr-x  395 robin  staff    12K 27 Mar 22:30 \u001b[1m\u001b[36m..\u001b[m\u001b[m\n",
      "-rw-r--r--@   1 robin  staff   6.0K 27 Mar 22:30 .DS_Store\n",
      "drwxr-xr-x    3 robin  staff    96B 28 Mar 09:07 \u001b[1m\u001b[36m.ipynb_checkpoints\u001b[m\u001b[m\n",
      "-rw-r--r--    1 robin  staff    18K 28 Mar 09:19 Untitled.ipynb\n",
      "drwx------@   6 robin  staff   192B 27 Mar 22:32 \u001b[1m\u001b[36mopname_csv_gb\u001b[m\u001b[m\n",
      "-rw-r--r--@   1 robin  staff    97M 27 Mar 22:29 opname_csv_gb.zip\n",
      "-rw-r--r--    1 robin  staff   2.1M 28 Mar 09:20 places.csv\n"
     ]
    }
   ],
   "source": [
    "!ls -lah"
   ]
  },
  {
   "cell_type": "code",
   "execution_count": 49,
   "id": "aa7a000c-e962-4c7c-b635-ee4e98c3a3f2",
   "metadata": {},
   "outputs": [],
   "source": [
    "output = \"export const places = [\"\n",
    "for _, row in gdf[['name', 'lat', 'lon']].iterrows():\n",
    "    output += f'[\"{row['name']}\",{round(row.lat, 3)},{round(row.lon, 3)}],\\n'\n",
    "output += \"]\""
   ]
  },
  {
   "cell_type": "code",
   "execution_count": 50,
   "id": "5dfbb936-8668-4f39-acae-608b98cc728e",
   "metadata": {},
   "outputs": [],
   "source": [
    "with open(\"places.js\", \"w\") as f:\n",
    "    f.write(output)"
   ]
  },
  {
   "cell_type": "code",
   "execution_count": 43,
   "id": "8e2f2691-367e-4c1d-86dd-4c421b35da94",
   "metadata": {},
   "outputs": [
    {
     "data": {
      "text/plain": [
       "0      Church Fenton\n",
       "1         Kellingley\n",
       "2         Half Acres\n",
       "3             Newton\n",
       "4          Gateforth\n",
       "           ...      \n",
       "12         West Yell\n",
       "13          Hamnavoe\n",
       "14         Colvister\n",
       "15            Aywick\n",
       "556        Cunnister\n",
       "Name: name, Length: 43208, dtype: object"
      ]
     },
     "execution_count": 43,
     "metadata": {},
     "output_type": "execute_result"
    }
   ],
   "source": [
    "gdf.name"
   ]
  },
  {
   "cell_type": "code",
   "execution_count": null,
   "id": "b1b80435-f9cb-4d13-8373-126fb168bbc7",
   "metadata": {},
   "outputs": [],
   "source": []
  }
 ],
 "metadata": {
  "kernelspec": {
   "display_name": "Python 3 (ipykernel)",
   "language": "python",
   "name": "python3"
  },
  "language_info": {
   "codemirror_mode": {
    "name": "ipython",
    "version": 3
   },
   "file_extension": ".py",
   "mimetype": "text/x-python",
   "name": "python",
   "nbconvert_exporter": "python",
   "pygments_lexer": "ipython3",
   "version": "3.12.2"
  }
 },
 "nbformat": 4,
 "nbformat_minor": 5
}
